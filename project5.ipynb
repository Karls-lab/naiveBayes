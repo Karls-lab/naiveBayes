{
 "cells": [
  {
   "cell_type": "markdown",
   "metadata": {},
   "source": [
    "# CS5830 Project 5: Naive Bayes"
   ]
  },
  {
   "cell_type": "code",
   "execution_count": null,
   "metadata": {},
   "outputs": [],
   "source": [
    "import pandas as pd\n",
    "import numpy as np\n",
    "import seaborn as sns\n",
    "\n",
    "from ucimlrepo import fetch_ucirepo # Dataset\n",
    "from sklearn.preprocessing import StandardScaler # Data standardization\n",
    "from sklearn.feature_selection import SelectKBest\n",
    "from sklearn.model_selection import train_test_split\n",
    "from sklearn.metrics import precision_recall_fscore_support\n",
    "\n",
    "# Models\n",
    "from sklearn.naive_bayes import BernoulliNB\n",
    "from sklearn.naive_bayes import GaussianNB"
   ]
  },
  {
   "cell_type": "markdown",
   "metadata": {},
   "source": [
    "## Fetch and Clean the Data"
   ]
  },
  {
   "cell_type": "code",
   "execution_count": null,
   "metadata": {},
   "outputs": [],
   "source": [
    "adult = fetch_ucirepo(id=2)\n",
    "X = adult.data.features\n",
    "y = adult.data.targets\n",
    "\n",
    "# Convert <=50k to 0 and >50k to 1 (the dataset also has a . at the end of some values, which we need to account for)\n",
    "print(y['income'].unique())\n",
    "y['income'] = y['income'].map({'<=50K': 0, '>50K': 1, '<=50K.': 0, '>50K.': 1})\n",
    "print(y['income'].unique())\n",
    "\n",
    "df = pd.concat([X, y], axis=1)\n",
    "\n",
    "df = df.replace('?', np.nan)\n",
    "df = df.dropna()\n",
    "df.head()"
   ]
  },
  {
   "cell_type": "code",
   "execution_count": null,
   "metadata": {},
   "outputs": [],
   "source": [
    "\"\"\"\n",
    "Declare categorical and numerical features\n",
    "\"\"\"\n",
    "\n",
    "adult_feats = adult.variables\n",
    "adult_feats = adult_feats[adult_feats[\"role\"] != \"Target\"]\n",
    "display(adult_feats)\n",
    "\n",
    "categorical_feats = adult_feats[(adult_feats[\"type\"] == \"Categorical\") | (adult_feats[\"type\"] == \"Binary\")]['name'].tolist()\n",
    "numerical_feats = adult_feats[adult_feats[\"type\"] == \"Integer\"]['name'].tolist()\n",
    "\n",
    "print(f'Categorical: {categorical_feats}')\n",
    "print(f'Numerical: {numerical_feats}')"
   ]
  },
  {
   "cell_type": "code",
   "execution_count": null,
   "metadata": {},
   "outputs": [],
   "source": [
    "\"\"\"\n",
    "Prepare categorical and numerical features\n",
    "\"\"\"\n",
    "\n",
    "# one-hot encode the categorical features\n",
    "df = pd.get_dummies(df, columns=categorical_feats, drop_first=True)\n",
    "\n",
    "X = df.drop('income', axis=1)\n",
    "y = df['income']\n",
    "\n",
    "X_train, X_test, y_train, y_test = train_test_split(X, y)\n",
    "\n",
    "# Scale the numerical features\n",
    "scaler = StandardScaler()\n",
    "X_train[numerical_feats] = scaler.fit_transform(X_train[numerical_feats])\n",
    "X_test[numerical_feats] = scaler.transform(X_test[numerical_feats])\n",
    "\n",
    "X_train"
   ]
  },
  {
   "cell_type": "code",
   "execution_count": null,
   "metadata": {},
   "outputs": [],
   "source": [
    "\"\"\"\n",
    "Now with all features cleaned, we can perform feature selection\n",
    "\"\"\"\n",
    "\n",
    "n_features = 20\n",
    "kbest = SelectKBest(k=n_features)\n",
    "X_train = kbest.fit_transform(X_train, y_train)\n",
    "X_test = kbest.transform(X_test)"
   ]
  },
  {
   "cell_type": "markdown",
   "metadata": {},
   "source": [
    "## Naive Bayes Classification"
   ]
  },
  {
   "cell_type": "code",
   "execution_count": null,
   "metadata": {},
   "outputs": [],
   "source": [
    "gnb = GaussianNB()\n",
    "gnb.fit(X_train, y_train)\n",
    "y_pred_gnb = gnb.predict(X_test)\n",
    "gnb_scores = precision_recall_fscore_support(y_test, y_pred_gnb, average='binary')\n",
    "\n",
    "print(f'Naive Bayes (Gaussian) Scores: precision={gnb_scores[0]}, recall={gnb_scores[1]}, f1={gnb_scores[2]}')"
   ]
  }
 ],
 "metadata": {
  "kernelspec": {
   "display_name": "Python 3",
   "language": "python",
   "name": "python3"
  },
  "language_info": {
   "codemirror_mode": {
    "name": "ipython",
    "version": 3
   },
   "file_extension": ".py",
   "mimetype": "text/x-python",
   "name": "python",
   "nbconvert_exporter": "python",
   "pygments_lexer": "ipython3",
   "version": "3.10.2"
  }
 },
 "nbformat": 4,
 "nbformat_minor": 2
}
