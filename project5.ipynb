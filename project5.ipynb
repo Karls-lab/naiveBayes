{
 "cells": [
  {
   "cell_type": "markdown",
   "metadata": {},
   "source": [
    "# CS5830 Project 5: Naive Bayes"
   ]
  },
  {
   "cell_type": "code",
   "execution_count": 2,
   "metadata": {},
   "outputs": [
    {
     "name": "stderr",
     "output_type": "stream",
     "text": [
      "/home/x1b3d3ad/.local/lib/python3.11/site-packages/matplotlib/projections/__init__.py:63: UserWarning: Unable to import Axes3D. This may be due to multiple versions of Matplotlib being installed (e.g. as a system package and as a pip package). As a result, the 3D projection is not available.\n",
      "  warnings.warn(\"Unable to import Axes3D. This may be due to multiple versions of \"\n"
     ]
    }
   ],
   "source": [
    "import pandas as pd\n",
    "import numpy as np\n",
    "import seaborn as sns\n",
    "\n",
    "from sklearn.model_selection import train_test_split\n",
    "from sklearn.metrics import precision_recall_fscore_support\n",
    "from sklearn.feature_extraction.text import CountVectorizer\n",
    "\n",
    "# Models\n",
    "from sklearn.naive_bayes import MultinomialNB"
   ]
  },
  {
   "cell_type": "code",
   "execution_count": 3,
   "metadata": {},
   "outputs": [
    {
     "data": {
      "text/html": [
       "<div>\n",
       "<style scoped>\n",
       "    .dataframe tbody tr th:only-of-type {\n",
       "        vertical-align: middle;\n",
       "    }\n",
       "\n",
       "    .dataframe tbody tr th {\n",
       "        vertical-align: top;\n",
       "    }\n",
       "\n",
       "    .dataframe thead th {\n",
       "        text-align: right;\n",
       "    }\n",
       "</style>\n",
       "<table border=\"1\" class=\"dataframe\">\n",
       "  <thead>\n",
       "    <tr style=\"text-align: right;\">\n",
       "      <th></th>\n",
       "      <th>title</th>\n",
       "      <th>text</th>\n",
       "      <th>label</th>\n",
       "    </tr>\n",
       "  </thead>\n",
       "  <tbody>\n",
       "    <tr>\n",
       "      <th>0</th>\n",
       "      <td>LAW ENFORCEMENT ON HIGH ALERT Following Threat...</td>\n",
       "      <td>No comment is expected from Barack Obama Membe...</td>\n",
       "      <td>1</td>\n",
       "    </tr>\n",
       "    <tr>\n",
       "      <th>2</th>\n",
       "      <td>UNBELIEVABLE! OBAMA’S ATTORNEY GENERAL SAYS MO...</td>\n",
       "      <td>Now, most of the demonstrators gathered last ...</td>\n",
       "      <td>1</td>\n",
       "    </tr>\n",
       "    <tr>\n",
       "      <th>3</th>\n",
       "      <td>Bobby Jindal, raised Hindu, uses story of Chri...</td>\n",
       "      <td>A dozen politically active pastors came here f...</td>\n",
       "      <td>0</td>\n",
       "    </tr>\n",
       "    <tr>\n",
       "      <th>4</th>\n",
       "      <td>SATAN 2: Russia unvelis an image of its terrif...</td>\n",
       "      <td>The RS-28 Sarmat missile, dubbed Satan 2, will...</td>\n",
       "      <td>1</td>\n",
       "    </tr>\n",
       "    <tr>\n",
       "      <th>5</th>\n",
       "      <td>About Time! Christian Group Sues Amazon and SP...</td>\n",
       "      <td>All we can say on this one is it s about time ...</td>\n",
       "      <td>1</td>\n",
       "    </tr>\n",
       "    <tr>\n",
       "      <th>...</th>\n",
       "      <td>...</td>\n",
       "      <td>...</td>\n",
       "      <td>...</td>\n",
       "    </tr>\n",
       "    <tr>\n",
       "      <th>72129</th>\n",
       "      <td>Russians steal research on Trump in hack of U....</td>\n",
       "      <td>WASHINGTON (Reuters) - Hackers believed to be ...</td>\n",
       "      <td>0</td>\n",
       "    </tr>\n",
       "    <tr>\n",
       "      <th>72130</th>\n",
       "      <td>WATCH: Giuliani Demands That Democrats Apolog...</td>\n",
       "      <td>You know, because in fantasyland Republicans n...</td>\n",
       "      <td>1</td>\n",
       "    </tr>\n",
       "    <tr>\n",
       "      <th>72131</th>\n",
       "      <td>Migrants Refuse To Leave Train At Refugee Camp...</td>\n",
       "      <td>Migrants Refuse To Leave Train At Refugee Camp...</td>\n",
       "      <td>0</td>\n",
       "    </tr>\n",
       "    <tr>\n",
       "      <th>72132</th>\n",
       "      <td>Trump tussle gives unpopular Mexican leader mu...</td>\n",
       "      <td>MEXICO CITY (Reuters) - Donald Trump’s combati...</td>\n",
       "      <td>0</td>\n",
       "    </tr>\n",
       "    <tr>\n",
       "      <th>72133</th>\n",
       "      <td>Goldman Sachs Endorses Hillary Clinton For Pre...</td>\n",
       "      <td>Goldman Sachs Endorses Hillary Clinton For Pre...</td>\n",
       "      <td>1</td>\n",
       "    </tr>\n",
       "  </tbody>\n",
       "</table>\n",
       "<p>71537 rows × 3 columns</p>\n",
       "</div>"
      ],
      "text/plain": [
       "                                                   title   \n",
       "0      LAW ENFORCEMENT ON HIGH ALERT Following Threat...  \\\n",
       "2      UNBELIEVABLE! OBAMA’S ATTORNEY GENERAL SAYS MO...   \n",
       "3      Bobby Jindal, raised Hindu, uses story of Chri...   \n",
       "4      SATAN 2: Russia unvelis an image of its terrif...   \n",
       "5      About Time! Christian Group Sues Amazon and SP...   \n",
       "...                                                  ...   \n",
       "72129  Russians steal research on Trump in hack of U....   \n",
       "72130   WATCH: Giuliani Demands That Democrats Apolog...   \n",
       "72131  Migrants Refuse To Leave Train At Refugee Camp...   \n",
       "72132  Trump tussle gives unpopular Mexican leader mu...   \n",
       "72133  Goldman Sachs Endorses Hillary Clinton For Pre...   \n",
       "\n",
       "                                                    text  label  \n",
       "0      No comment is expected from Barack Obama Membe...      1  \n",
       "2       Now, most of the demonstrators gathered last ...      1  \n",
       "3      A dozen politically active pastors came here f...      0  \n",
       "4      The RS-28 Sarmat missile, dubbed Satan 2, will...      1  \n",
       "5      All we can say on this one is it s about time ...      1  \n",
       "...                                                  ...    ...  \n",
       "72129  WASHINGTON (Reuters) - Hackers believed to be ...      0  \n",
       "72130  You know, because in fantasyland Republicans n...      1  \n",
       "72131  Migrants Refuse To Leave Train At Refugee Camp...      0  \n",
       "72132  MEXICO CITY (Reuters) - Donald Trump’s combati...      0  \n",
       "72133  Goldman Sachs Endorses Hillary Clinton For Pre...      1  \n",
       "\n",
       "[71537 rows x 3 columns]"
      ]
     },
     "execution_count": 3,
     "metadata": {},
     "output_type": "execute_result"
    }
   ],
   "source": [
    "# Download dataset from https://www.kaggle.com/datasets/saurabhshahane/fake-news-classification\n",
    "df = pd.read_csv('data/WELFake_Dataset.csv', index_col=0)\n",
    "df = df.dropna()\n",
    "df"
   ]
  },
  {
   "cell_type": "code",
   "execution_count": 4,
   "metadata": {},
   "outputs": [],
   "source": [
    "# average='binary', pos_label=0 == Only report scores for predicting fake news\n",
    "def get_scores(y_label, y_pred):\n",
    "    precision, recall, f1score, support = precision_recall_fscore_support(y_label, y_pred, average='binary')\n",
    "    print(f'Precision: {precision}')\n",
    "    print(f'f1-score: {f1score}')"
   ]
  },
  {
   "cell_type": "code",
   "execution_count": 8,
   "metadata": {},
   "outputs": [
    {
     "data": {
      "text/plain": [
       "<53652x27658 sparse matrix of type '<class 'numpy.int64'>'\n",
       "\twith 462594 stored elements in Compressed Sparse Row format>"
      ]
     },
     "metadata": {},
     "output_type": "display_data"
    },
    {
     "name": "stdout",
     "output_type": "stream",
     "text": [
      "Precision: 0.8804737585569923\n",
      "f1-score: 0.88465527594301\n"
     ]
    }
   ],
   "source": [
    "X_train, X_test, y_train, y_test = train_test_split(df[['title', \"text\"]], df['label'])\n",
    "\n",
    "# Use count vectorizor for title\n",
    "cv = CountVectorizer(stop_words='english')\n",
    "X_train_counts = cv.fit_transform(X_train[\"title\"])\n",
    "X_test_counts = cv.transform(X_test[\"title\"])\n",
    "display(X_train_counts)\n",
    "\n",
    "mnb = MultinomialNB()\n",
    "mnb.fit(X_train_counts, y_train)\n",
    "y_pred_title = mnb.predict(X_test_counts)\n",
    "\n",
    "get_scores(y_test, y_pred_title)"
   ]
  },
  {
   "cell_type": "code",
   "execution_count": 49,
   "metadata": {},
   "outputs": [
    {
     "name": "stdout",
     "output_type": "stream",
     "text": [
      "Most influential fake news words: {'ria', 'inquiry', 'backed', 'pakistan', 'kurds', 'strike', 'focus', 'mexican', 'strategy', 'coal', 'asylum', 'philippines', 'israeli', 'budget', 'russians', 'hold', 'past', 'sources', 'indonesia', 'boost', 'afghanistan', 'policies', 'asia', 'tillerson', 'hurricane', 'illinois', 'reuters', 'reforms', 'referendum', 'address', 'path', 'quit', 'thursday', 'arms', 'replace', 'duterte', 'poland', 'international', 'worker', 'abuse', 'meets', 'fears', 'donors', 'kerry', 'request', 'fires', 'heads', 'veto', 'draws', 'education', 'december', 'steps', 'committee', 'agrees', 'reform', 'japan', 'irish', 'remain', 'congo', 'passes', 'looms', 'chairman', 'efforts', 'coalition', 'watchdog', '18', 'puerto', 'ireland', 'capital', 'spanish', 'held', 'industry', 'libya', 'britain', 'ruling', 'hampshire', 'short', 'shutdown', 'rate', 'tensions', 'embassy', 'brazil', 'signals', 'spain', 'erdogan', 'probes', 'needed', 'bombing', 'detained', 'kremlin', 'conflict', 'jeb', 'korean', 'evening', 'counsel', 'quits', 'senators', 'term', 'delay', 'french', 'weighs', 'palestinian', 'johnson', 'spy', 'finance', 'ambassador', 'stay', 'april', 'gains', 'seek', 'tests', 'allegations', 'highlights', 'green', 'critics', 'discuss', 'rejects', 'sudan', 'strikes', 'repeal', 'parties', 'convention', 'militant', 'names', 'tuesday', 'drug', 'netanyahu', 'search', 'remains', 'concerned', 'corporate', 'briefing', 'iranian', 'urges', 'funds', 'crimes', 'manafort', 'exclusive', 'ukraine', 'fix', 'pass', 'linked', 'india', 'ohio', 'kurdish', 'eastern', 'sen', 'deputy', 'legislation', 'sets', 'cabinet', 'carolina', 'factbox', 'safe', 'faces', 'taliban', 'cases', 'australian', 'agree', 'testify', 'missile', 'rio', 'pact', 'committed', 'activists', 'avoid', 'risk', 'begin', 'gorsuch', 'expected', 'vietnam', 'appeals', 'hurt', 'africa', 'transition', 'hacking', 'bannon', 'east', 'adds', 'urge', 'leads', 'seeks', 'target', 'catalonia', 'european', 'firm', 'hariri', 'price', 'orlando', 'abe', 'macron', 'qatar', 'yemen', 'trade', 'adviser', 'agencies', 'cost', 'agreement', 'withdrawal', 'rebels', 'suspects', 'nearly', 'spending', 'taiwan', 'dies', 'visa', 'pentagon', 'condemns', 'agency', 'friday', 'zimbabwe', 'virginia', 'zealand', 'allow', 'graft', 'seeking', '2018', 'journalists', 'test', 'mugabe', 'gas', 'migrant', 'milo', 'rohingya', 'appeal', 'ipsos', 'cooperation', 'expects', 'unlikely', 'aides', 'fuel', 'testimony', 'trial', 'australia', 'retirement', 'companies', 'beijing', 'rand', 'picks', 'turkey', 'criticizes', 'leadership', 'san', 'changes', 'vice', 'catalan', 'turkish', 'links', 'ally', 'congressional', 'mnuchin', 'blocks', 'breitbart', 'returns', 'ask', 'orders', 'colombia', 'suspect', 'ends', 'kushner', 'resigns', '2017', 'ground', 'targets', 'review', 'northern', 'role', 'effort', 'panel', 'prime', 'ethics', 'wednesday', 'station', 'mcconnell', 'block', 'strong', 'progress', 'board', 'egypt', 'opens', 'consider', 'signs', 'missing', 'rico', 'launch', 'haley', 'prosecutor', 'lavrov', 'leaving', 'jailed', 'continue', 'proposal', 'seven', 'backs', 'kenya', 'canada', 'loss', 'myanmar', 'cyber', 'pressure', 'nsa', 'christie', 'suspected', 'merkel', 'talks', 'despite', 'afghan', 'assad', 'brussels', 'families', 'experts', 'crackdown', 'african', 'nomination', 'charge', 'senior', 'considering', 'return', 'shift', 'chinese', 'lebanon', 'nafta', 'italy', 'vows', 'marriage', 'emergency', 'train', 'offer', 'cuba', 'allies', 'spokesman', 'central', 'religious', 'majority', 'data', 'independence', 'region', 'tough', 'crash', 'draft', 'percent', 'sanctions', 'summit', 'kasich', 'aim', 'month', 'bangladesh', 'xi', 'ahead', 'opposition', 'coup', 'offers', 'aims', 'dispute', 'potential', 'challenge', 'kim', 'suicide', 'resign', 'chemical', 'ministry', 'pm', 'hopes', 'stance', 'deadly', 'denies', 'debt', 'iraqi', 'half', 'peru', 'south', 'lawmakers', 'pushes', 'moves', 'concerns', 'overhaul', 'primary', 'unity', 'raise', 'pope', 'nyt', 'tech', 'moscow', 'sec', 'monday', 'eyes', 'philippine', 'center', 'outside', 'criticism', 'bid', 'indian', 'financial', 'led', 'sue', 'venezuela', 'amid', 'nations', 'pledges', 'libyan', 'dept', 'zika', 'raid', 'insurance', 'envoy', 'labor', 'driving', 'diplomat', 'raises', 'exit', 'zuma', 'groups', 'clash', 'prince', 'militants', 'aid', 'era', 'sea', 'reach', 'deals', 'cites', 'energy', 'praises', 'taxes', 'issue', 'firms', 'treasury', 'mattis', 'jerusalem', 'arrests', 'jersey', 'launches', 'challenges', 'limit', 'defeat', 'confirms', 'sees', 'points', 'approves', 'irma', 'blast', 'rule', 'parliament'}\n",
      "Most influential real news word: {'blame', 'deep', 'network', 'islam', 'read', 'responds', 'benghazi', 'female', 'carlson', 'bombshell', 'attacked', 'thinks', 'veteran', 'didn', 'racist', 'church', 'sheriff', 'actor', 'humiliated', 'hack', 'hilariously', 'plane', 'believe', 'destroyed', 'photo', 'released', 'steve', 'ca', 'awesome', 'sarah', 'schools', 'viral', 'feel', 'reality', 'supporter', 'terrorists', 'lady', 'audio', 'admits', 'rigged', 'veterans', 'rnc', 'busted', 'manager', 'reportedly', 'dr', 'server', 'lynch', 'nation', 'disgusting', 'armed', 'wire', 'taxpayer', 'hitler', 'gingrich', 'jeanine', 'brutal', 'guy', 'fans', 'baltimore', 'mainstream', 'proves', 'criminal', 'literally', 'mind', 'guest', 'funded', 'earth', 'gold', 'comes', 'rich', 've', 'cash', 'violent', 'information', 'gave', 'announcement', 'reveals', 'melania', 'actually', 'friend', 'carson', 'spicer', 'dem', 'forced', 'charity', 'gov', 'huge', 'outrageous', 'reveal', 'taking', 'dangerous', 'update', 'confederate', 'giving', 'got', 'sh', 'shuts', 'comment', 'lost', 'flag', 'waters', 'fan', 'number', 'dump', 'asking', 'poor', 'remember', 'lol', 'pelosi', 'alert', 'chaos', 'boy', 'image', 'dog', 'pathetic', 'popular', 'soros', 'insane', 'hell', 'beautiful', 'gonna', 'images', 'elect', 'nancy', 'cause', 'flashback', 'hammers', 'kellyanne', 'yr', 'daughter', 'owner', 'hypocrisy', 'true', 'classified', 'caught', 'defending', 'stupid', 'reporter', 'company', 'oregon', 'guns', 'mueller', 'leftist', 'nightmare', 'movie', 'rock', 'revealed', 'hot', 'continues', 'threatening', 'telling', 'gone', 'phony', 'finest', 'using', 'thing', 'community', 'thugs', 'blacks', 'riots', 'explains', 'answer', 'speaks', 'promises', 'girls', 'important', 'stunning', 'calling', 'proof', 'worst', 'angry', 'millions', 'hours', 'father', 'dollars', 'paid', 'wanted', 'thug', 'asked', 'undercover', 'place', 'illegals', 'dirty', 'onion', 'bring', 'blow', 'huma', 'hero', 'streets', 'dad', 'conspiracy', 'msnbc', 'mocks', 'agent', 'disturbing', 'sunday', 'embarrassing', 'hacked', 'biggest', 'loses', 'barack', 'destroys', 'nra', 'usa', 'sean', 'tucker', 'propaganda', 'humiliates', 'scalia', 'explain', 'breaking', 'shocking', 'bathroom', 'conway', 'went', 'saying', 'photos', 'maxine', 'word', 'supporting', 'assault', 'boom', 'coming', 'meltdown', 'voted', 'christian', 'ck', 'hysterical', 'accidentally', 'assange', 'victim', 'democracy', 'la', 'lied', 'seth', 'unreal', 'lying', 'sexual', 'play', 'details', 'clintons', 'dnc', 'agents', 'teen', 'morning', 'nyc', 'reasons', 'radical', 'joe', 'amazing', 'crowd', 'socialist', 'person', 'hilarious', 'girl', 'julian', 'christians', 'rant', 'cover', 'establishment', 'losing', 'info', 'talking', 'exposed', 'apart', 'chelsea', 'allowed', 'officers', 'employees', 'doing', 'epic', 'massive', 'reason', 'shooter', 'speak', 'book', 'weiner', 'palin', 'powerful', 'hannity', 'called', 'uses', 'megyn', 'entire', 'isn', 'knew', 'truthfeed', 'taxpayers', 'totally', 'room', 'lie', 'whoa', 'wing', 'throws', 'failed', 'perfectly', 'podesta', 'mother', 'brilliant', 'god', 'blood', 'moment', 'facts', 'class', 'nazi', 'wikileaks', 'pipeline', 'unhinged', 'cancer', 'michigan', 'sent', 'players', 'alien', 'endorsement', 'fact', 'communist', 'kkk', 'cop', 'chris', 'ridiculous', 'absolutely', 'matter', 'parents', 'destroy', 'hand', 'radio', 'elizabeth', 'project', 'numbers', 'videos', 'ben', 'desperate', 'amendment', 'winning', 'ago', 'kids', 'borders', 'picture', 'refuses', 'tried', 'living', 'teacher', 'worse', 'pastor', '16', 'silent', 'ivanka', 'bundy', 'regime', 'perfect', 'professor', 'liberals', 'low', 'standing', 'documents', 'detroit', 'ep', 'dakota', 'brutally', 'baby', 'beat', 'elected', 'jeff', 'mosul', 'david', 'suggests', 'flint', 'anchor', 'donations', 'michelle', 'protester', 'corrupt', 'broke', 'false', 'rips', 'leaked', 'sick', 'finally', 'posts', 'lives', 'halloween', 'brother', 'boiler', 'antifa', 'christmas', 'check', 'took', 'attempt', 'thanks', 'abedin', 'anthem', 'furious', 'hosts', 'racism', 'tweets', 'crazy', 'husband', 'blames', 'breaks', 'mi', 'banned', 'aliens', 'blacklivesmatter', 'shut', 'remove', 'words', 'guess', 'october', 'dc', 'threatened', 'cops', 'warning', 'prove', 'eric', 'oops', 'liberal', 'murdered', 'wearing', 'truth', 'exposes', 'feds', 'november', 'turns', 'mob', 'doj', 'non', 'member', 'hands', 'happened', 'crooked', 'liar', 'lies', 'snl', 'mom', 'wow', 'reilly', 'thought', 'steal', 'roy', 'movement', 'surprise', 'citizens'}\n"
     ]
    }
   ],
   "source": [
    "vocabulary = cv.get_feature_names_out()\n",
    "\n",
    "coefficients = mnb.feature_log_prob_\n",
    "most_influential_word_indices = np.argsort(-coefficients, axis=1)\n",
    "most_influential_words = [vocabulary[idx] for idx in most_influential_word_indices]\n",
    "\n",
    "fake_news_words = set(most_influential_words[0][:100])\n",
    "real_news_words = set(most_influential_words[1][:100])\n",
    "\n",
    "fake_news_unique_words = fake_news_words - real_news_words\n",
    "real_news_unique_words = real_news_words - fake_news_words\n",
    "\n",
    "print(f'Most influential fake news words: {fake_news_unique_words}')\n",
    "print(f'Most influential real news word: {real_news_unique_words}')"
   ]
  },
  {
   "cell_type": "code",
   "execution_count": null,
   "metadata": {},
   "outputs": [
    {
     "name": "stdout",
     "output_type": "stream",
     "text": [
      "Precision: 0.9045718846197697\n",
      "f1-score: 0.8870255464251775\n"
     ]
    }
   ],
   "source": [
    "X_train_counts = cv.fit_transform(X_train[\"text\"])\n",
    "X_test_counts = cv.transform(X_test[\"text\"])\n",
    "\n",
    "mnb.fit(X_train_counts, y_train)\n",
    "y_pred_text = mnb.predict(X_test_counts)\n",
    "\n",
    "get_scores(y_test, y_pred_text)"
   ]
  },
  {
   "cell_type": "code",
   "execution_count": null,
   "metadata": {},
   "outputs": [
    {
     "name": "stdout",
     "output_type": "stream",
     "text": [
      "Precision: 0.8536298618595082\n",
      "f1-score: 0.9017335058214747\n"
     ]
    }
   ],
   "source": [
    "# Vote using a simple logical OR\n",
    "y_pred_combined = y_pred_title | y_pred_text\n",
    "\n",
    "get_scores(y_test, y_pred_combined)"
   ]
  }
 ],
 "metadata": {
  "kernelspec": {
   "display_name": ".venv",
   "language": "python",
   "name": "python3"
  },
  "language_info": {
   "codemirror_mode": {
    "name": "ipython",
    "version": 3
   },
   "file_extension": ".py",
   "mimetype": "text/x-python",
   "name": "python",
   "nbconvert_exporter": "python",
   "pygments_lexer": "ipython3",
   "version": "3.11.6"
  }
 },
 "nbformat": 4,
 "nbformat_minor": 2
}
