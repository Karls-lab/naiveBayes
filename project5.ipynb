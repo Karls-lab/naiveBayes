{
 "cells": [
  {
   "cell_type": "markdown",
   "metadata": {},
   "source": [
    "# CS5830 Project 5: Naive Bayes"
   ]
  },
  {
   "cell_type": "code",
   "execution_count": 34,
   "metadata": {},
   "outputs": [],
   "source": [
    "import pandas as pd\n",
    "import numpy as np\n",
    "import seaborn as sns\n",
    "\n",
    "from sklearn.model_selection import train_test_split\n",
    "from sklearn.metrics import precision_recall_fscore_support\n",
    "from sklearn.feature_extraction.text import CountVectorizer\n",
    "\n",
    "# Models\n",
    "from sklearn.naive_bayes import MultinomialNB"
   ]
  },
  {
   "cell_type": "code",
   "execution_count": 35,
   "metadata": {},
   "outputs": [
    {
     "data": {
      "text/html": [
       "<div>\n",
       "<style scoped>\n",
       "    .dataframe tbody tr th:only-of-type {\n",
       "        vertical-align: middle;\n",
       "    }\n",
       "\n",
       "    .dataframe tbody tr th {\n",
       "        vertical-align: top;\n",
       "    }\n",
       "\n",
       "    .dataframe thead th {\n",
       "        text-align: right;\n",
       "    }\n",
       "</style>\n",
       "<table border=\"1\" class=\"dataframe\">\n",
       "  <thead>\n",
       "    <tr style=\"text-align: right;\">\n",
       "      <th></th>\n",
       "      <th>title</th>\n",
       "      <th>text</th>\n",
       "      <th>label</th>\n",
       "    </tr>\n",
       "  </thead>\n",
       "  <tbody>\n",
       "    <tr>\n",
       "      <th>0</th>\n",
       "      <td>LAW ENFORCEMENT ON HIGH ALERT Following Threat...</td>\n",
       "      <td>No comment is expected from Barack Obama Membe...</td>\n",
       "      <td>1</td>\n",
       "    </tr>\n",
       "    <tr>\n",
       "      <th>2</th>\n",
       "      <td>UNBELIEVABLE! OBAMA’S ATTORNEY GENERAL SAYS MO...</td>\n",
       "      <td>Now, most of the demonstrators gathered last ...</td>\n",
       "      <td>1</td>\n",
       "    </tr>\n",
       "    <tr>\n",
       "      <th>3</th>\n",
       "      <td>Bobby Jindal, raised Hindu, uses story of Chri...</td>\n",
       "      <td>A dozen politically active pastors came here f...</td>\n",
       "      <td>0</td>\n",
       "    </tr>\n",
       "    <tr>\n",
       "      <th>4</th>\n",
       "      <td>SATAN 2: Russia unvelis an image of its terrif...</td>\n",
       "      <td>The RS-28 Sarmat missile, dubbed Satan 2, will...</td>\n",
       "      <td>1</td>\n",
       "    </tr>\n",
       "    <tr>\n",
       "      <th>5</th>\n",
       "      <td>About Time! Christian Group Sues Amazon and SP...</td>\n",
       "      <td>All we can say on this one is it s about time ...</td>\n",
       "      <td>1</td>\n",
       "    </tr>\n",
       "    <tr>\n",
       "      <th>...</th>\n",
       "      <td>...</td>\n",
       "      <td>...</td>\n",
       "      <td>...</td>\n",
       "    </tr>\n",
       "    <tr>\n",
       "      <th>72129</th>\n",
       "      <td>Russians steal research on Trump in hack of U....</td>\n",
       "      <td>WASHINGTON (Reuters) - Hackers believed to be ...</td>\n",
       "      <td>0</td>\n",
       "    </tr>\n",
       "    <tr>\n",
       "      <th>72130</th>\n",
       "      <td>WATCH: Giuliani Demands That Democrats Apolog...</td>\n",
       "      <td>You know, because in fantasyland Republicans n...</td>\n",
       "      <td>1</td>\n",
       "    </tr>\n",
       "    <tr>\n",
       "      <th>72131</th>\n",
       "      <td>Migrants Refuse To Leave Train At Refugee Camp...</td>\n",
       "      <td>Migrants Refuse To Leave Train At Refugee Camp...</td>\n",
       "      <td>0</td>\n",
       "    </tr>\n",
       "    <tr>\n",
       "      <th>72132</th>\n",
       "      <td>Trump tussle gives unpopular Mexican leader mu...</td>\n",
       "      <td>MEXICO CITY (Reuters) - Donald Trump’s combati...</td>\n",
       "      <td>0</td>\n",
       "    </tr>\n",
       "    <tr>\n",
       "      <th>72133</th>\n",
       "      <td>Goldman Sachs Endorses Hillary Clinton For Pre...</td>\n",
       "      <td>Goldman Sachs Endorses Hillary Clinton For Pre...</td>\n",
       "      <td>1</td>\n",
       "    </tr>\n",
       "  </tbody>\n",
       "</table>\n",
       "<p>71537 rows × 3 columns</p>\n",
       "</div>"
      ],
      "text/plain": [
       "                                                   title   \n",
       "0      LAW ENFORCEMENT ON HIGH ALERT Following Threat...  \\\n",
       "2      UNBELIEVABLE! OBAMA’S ATTORNEY GENERAL SAYS MO...   \n",
       "3      Bobby Jindal, raised Hindu, uses story of Chri...   \n",
       "4      SATAN 2: Russia unvelis an image of its terrif...   \n",
       "5      About Time! Christian Group Sues Amazon and SP...   \n",
       "...                                                  ...   \n",
       "72129  Russians steal research on Trump in hack of U....   \n",
       "72130   WATCH: Giuliani Demands That Democrats Apolog...   \n",
       "72131  Migrants Refuse To Leave Train At Refugee Camp...   \n",
       "72132  Trump tussle gives unpopular Mexican leader mu...   \n",
       "72133  Goldman Sachs Endorses Hillary Clinton For Pre...   \n",
       "\n",
       "                                                    text  label  \n",
       "0      No comment is expected from Barack Obama Membe...      1  \n",
       "2       Now, most of the demonstrators gathered last ...      1  \n",
       "3      A dozen politically active pastors came here f...      0  \n",
       "4      The RS-28 Sarmat missile, dubbed Satan 2, will...      1  \n",
       "5      All we can say on this one is it s about time ...      1  \n",
       "...                                                  ...    ...  \n",
       "72129  WASHINGTON (Reuters) - Hackers believed to be ...      0  \n",
       "72130  You know, because in fantasyland Republicans n...      1  \n",
       "72131  Migrants Refuse To Leave Train At Refugee Camp...      0  \n",
       "72132  MEXICO CITY (Reuters) - Donald Trump’s combati...      0  \n",
       "72133  Goldman Sachs Endorses Hillary Clinton For Pre...      1  \n",
       "\n",
       "[71537 rows x 3 columns]"
      ]
     },
     "execution_count": 35,
     "metadata": {},
     "output_type": "execute_result"
    }
   ],
   "source": [
    "# Download dataset from https://www.kaggle.com/datasets/saurabhshahane/fake-news-classification\n",
    "df = pd.read_csv('data/WELFake_Dataset.csv', index_col=0)\n",
    "df = df.dropna()\n",
    "df"
   ]
  },
  {
   "cell_type": "code",
   "execution_count": 36,
   "metadata": {},
   "outputs": [],
   "source": [
    "# average='binary', pos_label=0 == Only report scores for predicting fake news\n",
    "def get_scores(y_label, y_pred):\n",
    "    precision, recall, f1score, support = precision_recall_fscore_support(y_label, y_pred, average='binary')\n",
    "    print(f'Precision: {round(precision, 4)}')\n",
    "    print(f'f1-score: {round(f1score, 4)}')\n",
    "\n",
    "def print_confusion_matrix(y_label, y_pred):\n",
    "    confusion_matrix = pd.crosstab(y_label, y_pred, rownames=['Actual'], colnames=['Predicted'])\n",
    "    percent_matrix = confusion_matrix.apply(lambda x: x / x.sum() * 100, axis=1)\n",
    "    percent_matrix = percent_matrix.round(2).astype(str) + '%'\n",
    "    sns.heatmap(confusion_matrix, annot=percent_matrix, fmt='', cmap='Oranges', )"
   ]
  },
  {
   "cell_type": "code",
   "execution_count": 37,
   "metadata": {},
   "outputs": [
    {
     "data": {
      "text/plain": [
       "<53652x27536 sparse matrix of type '<class 'numpy.int64'>'\n",
       "\twith 462677 stored elements in Compressed Sparse Row format>"
      ]
     },
     "metadata": {},
     "output_type": "display_data"
    },
    {
     "name": "stdout",
     "output_type": "stream",
     "text": [
      "Precision: 0.879\n",
      "f1-score: 0.8826\n"
     ]
    },
    {
     "data": {
      "image/png": "[encoded data removed]",
      "text/plain": [
       "<Figure size 640x480 with 2 Axes>"
      ]
     },
     "metadata": {},
     "output_type": "display_data"
    }
   ],
   "source": [
    "X_train, X_test, y_train, y_test = train_test_split(df[['title', \"text\"]], df['label'])\n",
    "\n",
    "# Use count vectorizor for title\n",
    "cv = CountVectorizer(stop_words='english')\n",
    "X_train_counts = cv.fit_transform(X_train[\"title\"])\n",
    "X_test_counts = cv.transform(X_test[\"title\"])\n",
    "display(X_train_counts)\n",
    "\n",
    "mnb = MultinomialNB()\n",
    "mnb.fit(X_train_counts, y_train)\n",
    "y_pred_title = mnb.predict(X_test_counts)\n",
    "\n",
    "get_scores(y_test, y_pred_title)\n",
    "print_confusion_matrix(y_test, y_pred_title)"
   ]
  },
  {
   "cell_type": "code",
   "execution_count": 38,
   "metadata": {},
   "outputs": [
    {
     "name": "stdout",
     "output_type": "stream",
     "text": [
      "Most influential fake news words: {'breitbart', 'military', 'urges', 'chief', 'travel', 'fight', 'ex', 'senate', 'eu', 'presidential', 'probe', 'china', 'say', 'trade', 'israel', 'opposition', 'security', 'pm', 'budget', 'uk', 'border', 'immigration', 'north', 'rights', 'foreign', 'deal', 'turkey', 'sanctions', 'poll', 'case', 'tax', 'saudi', 'iran', 'supreme', 'policy', 'britain', 'minister', 'killed', 'leader', 'debate', 'administration', 'meet', 'times', 'congress', 'brexit', 'obamacare', 'plan', 'official', 'governor', 'talks', 'officials', 'factbox', 'france', 'german', 'korea', 'ban', 'york', 'tillerson', 'islamic', 'syria', 'mexico', 'senator', 'lawmakers', 'exclusive', 'nuclear', 'south'}\n",
      "Most influential real news word: {'world', 'cnn', 'make', 'democrat', 'liberal', 'like', 'did', 'rally', 'speech', 'tells', 'supporter', 'year', 'illegal', 'truth', 'day', 'american', '2016', 'watch', 'don', 'tweets', 'email', 'gets', 'fox', 'tweet', 'right', 'cruz', 'wikileaks', 'black', 'wow', 'breaking', 'america', 'makes', 'people', 'old', 'left', 'video', 'gun', 'caught', 'shows', 'john', 'comment', 'twitter', 'years', 'just', 'comey', 'won', 'women', 'muslim', 'supporters', 'million', 'racist', 'bernie', 'fbi', 'want', 'isis', 'woman', 'time', 'emails', 'goes', 'man', 'americans', 'host', 'investigation', 'going', 'fake', 'got'}\n"
     ]
    }
   ],
   "source": [
    "vocabulary = cv.get_feature_names_out()\n",
    "\n",
    "coefficients = mnb.feature_log_prob_\n",
    "most_influential_word_indices = np.argsort(-coefficients, axis=1)\n",
    "most_influential_words = [vocabulary[idx] for idx in most_influential_word_indices]\n",
    "\n",
    "fake_news_words = set(most_influential_words[0][:100])\n",
    "real_news_words = set(most_influential_words[1][:100])\n",
    "\n",
    "fake_news_unique_words = fake_news_words - real_news_words\n",
    "real_news_unique_words = real_news_words - fake_news_words\n",
    "\n",
    "print(f'Most influential fake news words: {fake_news_unique_words}')\n",
    "print(f'Most influential real news word: {real_news_unique_words}')"
   ]
  },
  {
   "cell_type": "code",
   "execution_count": 41,
   "metadata": {},
   "outputs": [
    {
     "name": "stdout",
     "output_type": "stream",
     "text": [
      "Precision: 0.9043\n",
      "f1-score: 0.8903\n"
     ]
    },
    {
     "data": {
      "image/png": "[encoded data removed]",
      "text/plain": [
       "<Figure size 640x480 with 2 Axes>"
      ]
     },
     "metadata": {},
     "output_type": "display_data"
    }
   ],
   "source": [
    "X_train_counts = cv.fit_transform(X_train[\"text\"])\n",
    "X_test_counts = cv.transform(X_test[\"text\"])\n",
    "\n",
    "mnb.fit(X_train_counts, y_train)\n",
    "y_pred_text = mnb.predict(X_test_counts)\n",
    "\n",
    "get_scores(y_test, y_pred_text)\n",
    "print_confusion_matrix(y_test, y_pred_text)"
   ]
  },
  {
   "cell_type": "code",
   "execution_count": 40,
   "metadata": {},
   "outputs": [
    {
     "name": "stdout",
     "output_type": "stream",
     "text": [
      "Precision: 0.8471\n",
      "f1-score: 0.8969\n"
     ]
    }
   ],
   "source": [
    "# Vote using a simple logical OR\n",
    "y_pred_combined = y_pred_title | y_pred_text\n",
    "\n",
    "get_scores(y_test, y_pred_combined)"
   ]
  }
 ],
 "metadata": {
  "kernelspec": {
   "display_name": ".venv",
   "language": "python",
   "name": "python3"
  },
  "language_info": {
   "codemirror_mode": {
    "name": "ipython",
    "version": 3
   },
   "file_extension": ".py",
   "mimetype": "text/x-python",
   "name": "python",
   "nbconvert_exporter": "python",
   "pygments_lexer": "ipython3",
   "version": "3.11.6"
  }
 },
 "nbformat": 4,
 "nbformat_minor": 2
}
