{
 "cells": [
  {
   "cell_type": "markdown",
   "metadata": {},
   "source": [
    "# CS5830 Project 5: Naive Bayes"
   ]
  },
  {
   "cell_type": "code",
   "execution_count": 1,
   "metadata": {},
   "outputs": [],
   "source": [
    "import pandas as pd\n",
    "import numpy as np\n",
    "import seaborn as sns\n",
    "\n",
    "from sklearn.model_selection import train_test_split\n",
    "from sklearn.metrics import precision_recall_fscore_support\n",
    "from sklearn.feature_extraction.text import CountVectorizer\n",
    "\n",
    "# Models\n",
    "from sklearn.naive_bayes import MultinomialNB"
   ]
  },
  {
   "cell_type": "code",
   "execution_count": 2,
   "metadata": {},
   "outputs": [],
   "source": [
    "# Download dataset from https://www.kaggle.com/datasets/saurabhshahane/fake-news-classification\n",
    "df = pd.read_csv('data/WELFake_Dataset.csv', index_col=0)\n",
    "df = df.dropna()\n",
    "df"
   ]
  },
  {
   "cell_type": "code",
   "execution_count": null,
   "metadata": {},
   "outputs": [],
   "source": [
    "# average='binary', pos_label=0 == Only report scores for predicting fake news\n",
    "def get_scores(y_label, y_pred):\n",
    "    precision, recall, f1score, support = precision_recall_fscore_support(y_label, y_pred, average='binary')\n",
    "    print(f'Precision: {round(precision, 4)}')\n",
    "    print(f'Recall: {round(recall, 4)}')\n",
    "    print(f'f1-score: {round(f1score, 4)}')\n",
    "\n",
    "def print_confusion_matrix(y_label, y_pred):\n",
    "    confusion_matrix = pd.crosstab(y_label, y_pred, rownames=['Actual'], colnames=['Predicted'])\n",
    "    percent_matrix = confusion_matrix.apply(lambda x: x / x.sum() * 100, axis=1)\n",
    "    percent_matrix = percent_matrix.round(2).astype(str) + '%'\n",
    "    sns.heatmap(confusion_matrix, annot=percent_matrix, fmt='', cmap='Oranges', )"
   ]
  },
  {
   "cell_type": "code",
   "execution_count": null,
   "metadata": {},
   "outputs": [],
   "source": [
    "X_train, X_test, y_train, y_test = train_test_split(df[['title', \"text\"]], df['label'])\n",
    "\n",
    "# Use count vectorizor for title\n",
    "cv = CountVectorizer(stop_words='english')\n",
    "X_train_counts = cv.fit_transform(X_train[\"title\"])\n",
    "X_test_counts = cv.transform(X_test[\"title\"])\n",
    "display(X_train_counts)\n",
    "\n",
    "mnb = MultinomialNB()\n",
    "mnb.fit(X_train_counts, y_train)\n",
    "y_pred_title = mnb.predict(X_test_counts)\n",
    "\n",
    "get_scores(y_test, y_pred_title)\n",
    "print_confusion_matrix(y_test, y_pred_title)"
   ]
  },
  {
   "cell_type": "code",
   "execution_count": null,
   "metadata": {},
   "outputs": [],
   "source": [
    "vocabulary = cv.get_feature_names_out()\n",
    "\n",
    "coefficients = mnb.feature_log_prob_\n",
    "most_influential_word_indices = np.argsort(-coefficients, axis=1)\n",
    "most_influential_words = [vocabulary[idx] for idx in most_influential_word_indices]\n",
    "\n",
    "fake_news_words = set(most_influential_words[0][:100])\n",
    "real_news_words = set(most_influential_words[1][:100])\n",
    "\n",
    "fake_news_unique_words = fake_news_words - real_news_words\n",
    "real_news_unique_words = real_news_words - fake_news_words\n",
    "\n",
    "print(f'Most influential fake news words: {fake_news_unique_words}')\n",
    "print(f'Most influential real news word: {real_news_unique_words}')"
   ]
  },
  {
   "cell_type": "code",
   "execution_count": null,
   "metadata": {},
   "outputs": [],
   "source": [
    "X_train_counts = cv.fit_transform(X_train[\"text\"])\n",
    "X_test_counts = cv.transform(X_test[\"text\"])\n",
    "\n",
    "mnb.fit(X_train_counts, y_train)\n",
    "y_pred_text = mnb.predict(X_test_counts)\n",
    "\n",
    "get_scores(y_test, y_pred_text)\n",
    "print_confusion_matrix(y_test, y_pred_text)"
   ]
  },
  {
   "cell_type": "code",
   "execution_count": null,
   "metadata": {},
   "outputs": [],
   "source": [
    "# Vote using a simple logical OR\n",
    "y_pred_combined = y_pred_title | y_pred_text\n",
    "\n",
    "get_scores(y_test, y_pred_combined)"
   ]
  }
 ],
 "metadata": {
  "kernelspec": {
   "display_name": ".venv",
   "language": "python",
   "name": "python3"
  },
  "language_info": {
   "codemirror_mode": {
    "name": "ipython",
    "version": 3
   },
   "file_extension": ".py",
   "mimetype": "text/x-python",
   "name": "python",
   "nbconvert_exporter": "python",
   "pygments_lexer": "ipython3",
   "version": "3.10.2"
  }
 },
 "nbformat": 4,
 "nbformat_minor": 2
}
