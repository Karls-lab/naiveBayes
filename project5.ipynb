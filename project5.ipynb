{
 "cells": [
  {
   "cell_type": "markdown",
   "metadata": {},
   "source": [
    "# CS5830 Project 5: Naive Bayes"
   ]
  },
  {
   "cell_type": "code",
   "execution_count": null,
   "metadata": {},
   "outputs": [],
   "source": [
    "import pandas as pd\n",
    "import numpy as np\n",
    "import seaborn as sns\n",
    "\n",
    "from ucimlrepo import fetch_ucirepo # Dataset\n",
    "from mrmr import mrmr_classif # Feature Selection\n",
    "from sklearn.preprocessing import StandardScaler # Data standardization\n",
    "from sklearn.model_selection import train_test_split\n",
    "from sklearn.metrics import precision_recall_fscore_support\n",
    "\n",
    "# Models\n",
    "from sklearn.naive_bayes import BernoulliNB\n",
    "from sklearn.naive_bayes import GaussianNB"
   ]
  },
  {
   "cell_type": "markdown",
   "metadata": {},
   "source": [
    "## Fetch and Clean the Data"
   ]
  },
  {
   "cell_type": "code",
   "execution_count": null,
   "metadata": {},
   "outputs": [],
   "source": [
    "adult = fetch_ucirepo(id=2)\n",
    "X = adult.data.features\n",
    "y = adult.data.targets\n",
    "\n",
    "# Convert <=50k to 0 and >50k to 1 (dataset also has a . at the end of some values, which we need to account for)\n",
    "print(y['income'].unique())\n",
    "y['income'] = y['income'].map({'<=50K': 0, '>50K': 1, '<=50K.': 0, '>50K.': 1})\n",
    "print(y['income'].unique())\n",
    "\n",
    "df = pd.concat([X, y], axis=1)\n",
    "\n",
    "df = df.replace('?', np.nan)\n",
    "df = df.dropna()\n",
    "df.head()"
   ]
  },
  {
   "cell_type": "code",
   "execution_count": null,
   "metadata": {},
   "outputs": [],
   "source": [
    "\"\"\"\n",
    "Declare categorical and numerical features\n",
    "\"\"\"\n",
    "adult_feats = adult.variables\n",
    "# Remove role \"Target\"\n",
    "adult_feats = adult_feats[adult_feats[\"role\"] != \"Target\"]\n",
    "display(adult_feats)\n",
    "\n",
    "categorical_feats = adult_feats[(adult_feats[\"type\"] == \"Categorical\") | (adult_feats[\"type\"] == \"Binary\")]['name'].tolist()\n",
    "numerical_feats = adult_feats[adult_feats[\"type\"] == \"Integer\"]['name'].tolist()\n",
    "\n",
    "print(f'Categorical: {categorical_feats}')\n",
    "print(f'Numerical: {numerical_feats}')"
   ]
  },
  {
   "cell_type": "code",
   "execution_count": null,
   "metadata": {},
   "outputs": [],
   "source": [
    "\"\"\"\n",
    "Prepare categorical features\n",
    "\"\"\"\n",
    "# one-hot encode the categorical features\n",
    "df = pd.get_dummies(df, columns=categorical_feats, drop_first=True)\n",
    "\n",
    "X = df.drop('income', axis=1)\n",
    "y = df['income']\n",
    "\n",
    "X_train, X_test, y_train, y_test = train_test_split(X, y)\n",
    "\n",
    "# Scale the numerical features\n",
    "scaler = StandardScaler()\n",
    "X_train[numerical_feats] = scaler.fit_transform(X_train[numerical_feats])\n",
    "X_test[numerical_feats] = scaler.transform(X_test[numerical_feats])"
   ]
  },
  {
   "cell_type": "code",
   "execution_count": null,
   "metadata": {},
   "outputs": [],
   "source": [
    "\"\"\" Now with all features cleaned, we can perform mRMR on the data\"\"\"\n",
    "selected_feats = mrmr_classif(X=X_train, y=y_train, K=20)\n",
    "display(selected_feats)\n",
    "\n",
    "X_train = X_train[selected_feats]\n",
    "X_test = X_test[selected_feats]\n",
    "\n",
    "X_train.head()"
   ]
  },
  {
   "cell_type": "markdown",
   "metadata": {},
   "source": [
    "## Naive Bayes Classification"
   ]
  },
  {
   "cell_type": "code",
   "execution_count": null,
   "metadata": {},
   "outputs": [],
   "source": [
    "X_train.info()\n",
    "bool_feats = X_train.select_dtypes(include='bool').columns\n",
    "\n",
    "bnb = BernoulliNB()\n",
    "X_train_bnb = X_train[bool_feats]\n",
    "X_test_bnb = X_test[bool_feats]\n",
    "bnb.fit(X_train_bnb, y_train)\n",
    "y_pred = bnb.predict(X_test_bnb)\n",
    "bnb_scores = precision_recall_fscore_support(y_test, y_pred, average='binary')\n",
    "\n",
    "gnb = GaussianNB()\n",
    "X_train_gnb = X_train.drop(columns=bool_feats)\n",
    "X_test_gnb = X_test.drop(columns=bool_feats)\n",
    "gnb.fit(X_train_gnb, y_train)\n",
    "y_pred = gnb.predict(X_test_gnb)\n",
    "gnb_scores = precision_recall_fscore_support(y_test, y_pred, average='binary')\n",
    "\n",
    "print(f'Naive Bayes (Bernoulli) Scores: precision={bnb_scores[0]}, recall={bnb_scores[1]}, f1={bnb_scores[2]}')\n",
    "print(f'Naive Bayes (Gaussian) Scores: precision={gnb_scores[0]}, recall={gnb_scores[1]}, f1={gnb_scores[2]}')"
   ]
  },
  {
   "cell_type": "code",
   "execution_count": null,
   "metadata": {},
   "outputs": [],
   "source": [
    "# Combine test results from the two models using a simple logical AND\n",
    "y_pred = np.logical_or(y_pred, bnb.predict(X_test[bool_feats]))\n",
    "combined_scores = precision_recall_fscore_support(y_test, y_pred, average='binary')\n",
    "\n",
    "print(f'Combined Scores: precision={combined_scores[0]}, recall={combined_scores[1]}, f1={combined_scores[2]}')"
   ]
  }
 ],
 "metadata": {
  "kernelspec": {
   "display_name": "Python 3",
   "language": "python",
   "name": "python3"
  },
  "language_info": {
   "codemirror_mode": {
    "name": "ipython",
    "version": 3
   },
   "file_extension": ".py",
   "mimetype": "text/x-python",
   "name": "python",
   "nbconvert_exporter": "python",
   "pygments_lexer": "ipython3",
   "version": "3.10.2"
  }
 },
 "nbformat": 4,
 "nbformat_minor": 2
}
