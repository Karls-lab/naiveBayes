{
 "cells": [
  {
   "cell_type": "markdown",
   "metadata": {},
   "source": [
    "# CS5830 Project 5: Naive Bayes"
   ]
  },
  {
   "cell_type": "code",
   "execution_count": null,
   "metadata": {},
   "outputs": [],
   "source": [
    "import pandas as pd\n",
    "import numpy as np\n",
    "import seaborn as sns\n",
    "\n",
    "from sklearn.model_selection import train_test_split\n",
    "from sklearn.metrics import precision_recall_fscore_support\n",
    "from sklearn.feature_extraction.text import CountVectorizer\n",
    "import nltk\n",
    "nltk.download('stopwords')\n",
    "from nltk.corpus import stopwords\n",
    "\n",
    "# Models\n",
    "from sklearn.naive_bayes import MultinomialNB"
   ]
  },
  {
   "cell_type": "code",
   "execution_count": null,
   "metadata": {},
   "outputs": [],
   "source": [
    "# Download dataset from https://www.kaggle.com/datasets/saurabhshahane/fake-news-classification\n",
    "df = pd.read_csv('data/WELFake_Dataset.csv', index_col=0)\n",
    "df = df.dropna()\n",
    "df"
   ]
  },
  {
   "cell_type": "code",
   "execution_count": null,
   "metadata": {},
   "outputs": [],
   "source": [
    "### FUNCTIONS ###\n",
    "\n",
    "def get_scores(y_label, y_pred):\n",
    "    precision, recall, f1score, support = precision_recall_fscore_support(\n",
    "        y_label, y_pred, average='binary', pos_label=1\n",
    "    ) # average='binary', pos_label=1 == Only report scores for ability to predict real news\n",
    "\n",
    "    print(f'Precision: {round(precision, 4)}')\n",
    "    print(f'Recall: {round(recall, 4)}')\n",
    "    print(f'f1-score: {round(f1score, 4)}')\n",
    "\n",
    "\n",
    "def print_confusion_matrix(y_label, y_pred):\n",
    "    confusion_matrix = pd.crosstab(y_label, y_pred, rownames=['Actual'], colnames=['Predicted'])\n",
    "    percent_matrix = confusion_matrix.apply(lambda x: x / x.sum() * 100, axis=1)\n",
    "    percent_matrix = percent_matrix.round(2).astype(str) + '%'\n",
    "\n",
    "    sns.heatmap(confusion_matrix, annot=percent_matrix, fmt='', cmap='Oranges', )\n",
    "\n",
    "\n",
    "def display_probs(mnb: MultinomialNB, cv: CountVectorizer, X_train: np.ndarray):\n",
    "    vocabulary = cv.get_feature_names_out()\n",
    "\n",
    "    coefficients = mnb.feature_log_prob_\n",
    "    fake_news_prob = np.exp(coefficients[0])\n",
    "    real_news_prob = np.exp(coefficients[1])\n",
    "\n",
    "    fake_news_prob = pd.Series(fake_news_prob, index=vocabulary) # Probability of each word given a fake news article\n",
    "    real_news_prob = pd.Series(real_news_prob, index=vocabulary) # Probability of each word given a real news article\n",
    "    diff = fake_news_prob - real_news_prob\n",
    "    fake_or_real = np.where(diff > 0, 'Fake', 'Real')\n",
    "    occurences = X_train.sum(axis=0)\n",
    "    occurences = np.array(occurences).flatten()\n",
    "\n",
    "    news_probs = pd.DataFrame({\n",
    "        'P(w | Fake News Text)': fake_news_prob,\n",
    "        'P(w | Real News Text)': real_news_prob,\n",
    "        'Difference': diff,\n",
    "        'More Likely': fake_or_real,\n",
    "        'Occurences': occurences\n",
    "    })\n",
    "\n",
    "    sorted_occuring = news_probs.sort_values(by='Occurences', ascending=False)\n",
    "    most_occuring_real = sorted_occuring[sorted_occuring['More Likely'] == 'Real'][0:10]\n",
    "    most_occuring_fake = sorted_occuring[sorted_occuring['More Likely'] == 'Fake'][0:10]\n",
    "    \n",
    "    display(most_occuring_real)\n",
    "    display(most_occuring_fake)"
   ]
  },
  {
   "cell_type": "code",
   "execution_count": null,
   "metadata": {},
   "outputs": [],
   "source": [
    "X_train, X_test, y_train, y_test = train_test_split(df[['title', \"text\"]], df['label'])\n",
    "\n",
    "# Use count vectorizor for title\n",
    "cv = CountVectorizer(stop_words=stopwords.words('english'))\n",
    "X_train_counts = cv.fit_transform(X_train[\"title\"])\n",
    "X_test_counts = cv.transform(X_test[\"title\"])\n",
    "display(X_train_counts)\n",
    "\n",
    "mnb = MultinomialNB()\n",
    "mnb.fit(X_train_counts, y_train)\n",
    "y_pred_title = mnb.predict(X_test_counts)\n",
    "\n",
    "get_scores(y_test, y_pred_title)\n",
    "print_confusion_matrix(y_test, y_pred_title)"
   ]
  },
  {
   "cell_type": "code",
   "execution_count": null,
   "metadata": {},
   "outputs": [],
   "source": [
    "display_probs(mnb, cv, X_train_counts)"
   ]
  },
  {
   "cell_type": "code",
   "execution_count": null,
   "metadata": {},
   "outputs": [],
   "source": [
    "X_train_counts = cv.fit_transform(X_train[\"text\"])\n",
    "X_test_counts = cv.transform(X_test[\"text\"])\n",
    "\n",
    "mnb.fit(X_train_counts, y_train)\n",
    "y_pred_text = mnb.predict(X_test_counts)\n",
    "\n",
    "get_scores(y_test, y_pred_text)\n",
    "print_confusion_matrix(y_test, y_pred_text)"
   ]
  },
  {
   "cell_type": "code",
   "execution_count": null,
   "metadata": {},
   "outputs": [],
   "source": [
    "display_probs(mnb, cv, X_train_counts)"
   ]
  },
  {
   "cell_type": "code",
   "execution_count": null,
   "metadata": {},
   "outputs": [],
   "source": [
    "# Vote using a simple logical OR\n",
    "y_pred_combined = y_pred_title | y_pred_text\n",
    "get_scores(y_test, y_pred_combined)\n",
    "print_confusion_matrix(y_test, y_pred_combined)"
   ]
  }
 ],
 "metadata": {
  "kernelspec": {
   "display_name": ".venv",
   "language": "python",
   "name": "python3"
  },
  "language_info": {
   "codemirror_mode": {
    "name": "ipython",
    "version": 3
   },
   "file_extension": ".py",
   "mimetype": "text/x-python",
   "name": "python",
   "nbconvert_exporter": "python",
   "pygments_lexer": "ipython3",
   "version": "3.10.2"
  }
 },
 "nbformat": 4,
 "nbformat_minor": 2
}
