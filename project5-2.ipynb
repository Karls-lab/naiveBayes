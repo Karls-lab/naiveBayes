{
 "cells": [
  {
   "cell_type": "markdown",
   "metadata": {},
   "source": [
    "# CS5830 Project 5: Naive Bayes"
   ]
  },
  {
   "cell_type": "code",
   "execution_count": null,
   "metadata": {},
   "outputs": [],
   "source": [
    "import pandas as pd\n",
    "import numpy as np\n",
    "import seaborn as sns\n",
    "\n",
    "from sklearn.model_selection import train_test_split\n",
    "from sklearn.metrics import precision_recall_fscore_support\n",
    "from sklearn.feature_extraction.text import CountVectorizer\n",
    "\n",
    "# Models\n",
    "from sklearn.naive_bayes import MultinomialNB"
   ]
  },
  {
   "cell_type": "code",
   "execution_count": null,
   "metadata": {},
   "outputs": [],
   "source": [
    "# Download dataset from https://www.kaggle.com/datasets/saurabhshahane/fake-news-classification\n",
    "df = pd.read_csv('data/WELFake_Dataset.csv', index_col=0)\n",
    "df = df.dropna()\n",
    "df"
   ]
  },
  {
   "cell_type": "code",
   "execution_count": null,
   "metadata": {},
   "outputs": [],
   "source": [
    "# Explore the distribution of classes\n",
    "sns.countplot(df['label'])"
   ]
  },
  {
   "cell_type": "code",
   "execution_count": null,
   "metadata": {},
   "outputs": [],
   "source": [
    "X_train, X_test, y_train, y_test = train_test_split(df[['title', \"text\"]], df['label'])\n",
    "\n",
    "# Use count vectorizor for title\n",
    "cv = CountVectorizer(stop_words='english')\n",
    "X_train_counts = cv.fit_transform(X_train[\"title\"])\n",
    "X_test_counts = cv.transform(X_test[\"title\"])\n",
    "\n",
    "mnb = MultinomialNB()\n",
    "mnb.fit(X_train_counts, y_train)\n",
    "y_pred_title = mnb.predict(X_test_counts)\n",
    "display(precision_recall_fscore_support(y_test, y_pred_title, average='binary'))"
   ]
  },
  {
   "cell_type": "code",
   "execution_count": null,
   "metadata": {},
   "outputs": [],
   "source": [
    "X_train_counts = cv.fit_transform(X_train[\"text\"])\n",
    "X_test_counts = cv.transform(X_test[\"text\"])\n",
    "\n",
    "mnb.fit(X_train_counts, y_train)\n",
    "y_pred_text = mnb.predict(X_test_counts)\n",
    "display(precision_recall_fscore_support(y_test, y_pred_text, average='binary'))"
   ]
  },
  {
   "cell_type": "code",
   "execution_count": null,
   "metadata": {},
   "outputs": [],
   "source": [
    "y_pred = y_pred_title | y_pred_text\n",
    "display(precision_recall_fscore_support(y_test, y_pred, average='binary'))"
   ]
  }
 ],
 "metadata": {
  "kernelspec": {
   "display_name": ".venv",
   "language": "python",
   "name": "python3"
  },
  "language_info": {
   "codemirror_mode": {
    "name": "ipython",
    "version": 3
   },
   "file_extension": ".py",
   "mimetype": "text/x-python",
   "name": "python",
   "nbconvert_exporter": "python",
   "pygments_lexer": "ipython3",
   "version": "3.10.2"
  }
 },
 "nbformat": 4,
 "nbformat_minor": 2
}
