{
 "cells": [
  {
   "cell_type": "code",
   "execution_count": null,
   "metadata": {},
   "outputs": [],
   "source": [
    "import pandas as pd\n",
    "import numpy as np\n",
    "import mrmr"
   ]
  },
  {
   "cell_type": "code",
   "execution_count": null,
   "metadata": {},
   "outputs": [],
   "source": [
    "df = pd.read_csv('data.csv')\n",
    "print(f'\\ncolumns: {df.columns}')\n",
    "print(f'\\n head(2): {df.head(2)}')\n",
    "print(f'\\nINFO: {df.info()}')"
   ]
  },
  {
   "cell_type": "code",
   "execution_count": null,
   "metadata": {},
   "outputs": [],
   "source": [
    "\"\"\"\n",
    "Declare categorical and continuous features\n",
    "\"\"\"\n",
    "categoricalFeatures = ['sex', 'cp', 'fbs', 'restecg', 'exang', 'slope', 'ca', 'thal']\n",
    "continuousFeatures = ['age', 'trestbps', 'chol', 'thalach', 'oldpeak']\n"
   ]
  },
  {
   "cell_type": "code",
   "execution_count": null,
   "metadata": {},
   "outputs": [],
   "source": [
    "\"\"\"\n",
    "Prepare categorical features\n",
    "\"\"\"\n",
    "from sklearn.preprocessing import LabelEncoder, MinMaxScaler\n",
    "\n",
    "# Remove '?' from the categorical features\n",
    "for feature in categoricalFeatures:\n",
    "    df = df[df[feature] != '?']\n",
    "\n",
    "# Use the label encoder to convert categorical features to numerical\n",
    "label_encoder = LabelEncoder()\n",
    "min_max_scaler = MinMaxScaler()\n",
    "for col in categoricalFeatures:\n",
    "    df[col] = label_encoder.fit_transform(df[col])\n",
    "\n",
    "# Normalize the encoded values to a range of 0 to 1\n",
    "df[categoricalFeatures] = min_max_scaler.fit_transform(df[categoricalFeatures])"
   ]
  },
  {
   "cell_type": "code",
   "execution_count": null,
   "metadata": {},
   "outputs": [],
   "source": [
    "\"\"\"\n",
    "Clean up Continuous Features\n",
    "\"\"\"\n",
    "\n",
    "# remove rows that are not numeric\n",
    "for feature in continuousFeatures:\n",
    "    print(f\"Converting {feature} to numeric\")\n",
    "    df = df[pd.to_numeric(df[feature], errors='coerce').notna()]\n",
    "\n",
    "# Z-score normalization\n",
    "for feature in continuousFeatures:\n",
    "    mean = df[feature].mean()\n",
    "    std = df[feature].std()\n",
    "    df[feature] = (df[feature] - mean) / std"
   ]
  },
  {
   "cell_type": "code",
   "execution_count": null,
   "metadata": {},
   "outputs": [],
   "source": [
    "\n",
    "# Convert the data types to float16\n",
    "df[categoricalFeatures] = df[categoricalFeatures].astype('float16')\n",
    "df[continuousFeatures] = df[continuousFeatures].astype('float16')"
   ]
  },
  {
   "cell_type": "code",
   "execution_count": null,
   "metadata": {},
   "outputs": [],
   "source": [
    "\"\"\" Now with all features cleaned, we can perform mRMR on the data\"\"\"\n",
    "from mrmr import mrmr_classif\n",
    "\n",
    "allFeatures = df.columns[:-1]\n",
    "selectedFeatures = mrmr_classif(X=df[allFeatures], y=df['num'], K=len(allFeatures))\n",
    "print(f'ranked features according to mrmr: {selectedFeatures}')\n",
    "\n",
    "# Take the top 9 features\n",
    "selectedFeatures = selectedFeatures[:9] + ['num']\n",
    "df = df[selectedFeatures]\n"
   ]
  },
  {
   "cell_type": "code",
   "execution_count": null,
   "metadata": {},
   "outputs": [],
   "source": [
    "\"\"\" Now lets save the data \"\"\"\n",
    "print(df.info())\n",
    "print(f\"\\n\\n DF HEAD\")\n",
    "print(df.head(5))\n",
    "df.to_csv('data_cleaned.csv', index=False)\n"
   ]
  }
 ],
 "metadata": {
  "kernelspec": {
   "display_name": "Python 3",
   "language": "python",
   "name": "python3"
  },
  "language_info": {
   "codemirror_mode": {
    "name": "ipython",
    "version": 3
   },
   "file_extension": ".py",
   "mimetype": "text/x-python",
   "name": "python",
   "nbconvert_exporter": "python",
   "pygments_lexer": "ipython3",
   "version": "3.11.6"
  }
 },
 "nbformat": 4,
 "nbformat_minor": 2
}
