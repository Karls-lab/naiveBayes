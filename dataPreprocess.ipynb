{
 "cells": [
  {
   "cell_type": "code",
   "execution_count": null,
   "metadata": {},
   "outputs": [],
   "source": [
    "import pandas as pd\n",
    "import numpy as np\n",
    "import os\n",
    "import mrmr"
   ]
  },
  {
   "cell_type": "code",
   "execution_count": null,
   "metadata": {},
   "outputs": [],
   "source": [
    "\"\"\"\n",
    "read in the dataframe and name it 'df'. We will use this dataframe throughout the rest of the code.\n",
    "this code prints out the unique values in each column of the dataframe\n",
    "\"\"\"\n",
    "df = pd.read_csv(os.path.join('data', 'adult.csv'), index_col=False)\n",
    "for col in df.columns:\n",
    "    print(f\"Unique values in Columns '{col}'\")\n",
    "    print(f'{col}: {df[col].unique()}\\n')\n",
    "\n",
    "print(f'\\ncolumns: {df.columns}')\n",
    "print(f'\\n head(2): {df.head(2)}')\n",
    "print(f'\\nINFO: {df.info()}')\n"
   ]
  },
  {
   "cell_type": "code",
   "execution_count": null,
   "metadata": {},
   "outputs": [],
   "source": [
    "\"\"\"\n",
    "Declare categorical and continuous features\n",
    "\"\"\"\n",
    "featureTypes = pd.read_csv(os.path.join('data', 'featureTypes.csv'), index_col=False)\n",
    "categoricalFeatures = featureTypes.query(\"type == 'categorical'\")['feature'].tolist()\n",
    "ordinalFeatures = featureTypes.query(\"type == 'ordinal'\")['feature'].tolist()\n",
    "numericalFeatures = featureTypes.query(\"type in ['discrete', 'continuous']\")['feature'].tolist()\n",
    "\n",
    "print(f'categoricalFeatures: {categoricalFeatures}')\n",
    "print(f'ordinalFeatures: {ordinalFeatures}')\n",
    "print(f'numericalFeatures: {numericalFeatures}')\n"
   ]
  },
  {
   "cell_type": "code",
   "execution_count": null,
   "metadata": {},
   "outputs": [],
   "source": [
    "\"\"\"\n",
    "Prepare categorical features\n",
    "\"\"\"\n",
    "# Remove '?' from the categorical features\n",
    "for feature in categoricalFeatures:\n",
    "    df = df[df[feature] != '?']"
   ]
  },
  {
   "cell_type": "code",
   "execution_count": null,
   "metadata": {},
   "outputs": [],
   "source": [
    "\"\"\"\n",
    "Clean up Continuous Features\n",
    "\"\"\"\n",
    "\n",
    "# remove rows that are not numeric\n",
    "for feature in continuousFeatures:\n",
    "    print(f\"Converting {feature} to numeric\")\n",
    "    df = df[pd.to_numeric(df[feature], errors='coerce').notna()]\n",
    "\n",
    "# Z-score normalization\n",
    "for feature in continuousFeatures:\n",
    "    mean = df[feature].mean()\n",
    "    std = df[feature].std()\n",
    "    df[feature] = (df[feature] - mean) / std"
   ]
  },
  {
   "cell_type": "code",
   "execution_count": null,
   "metadata": {},
   "outputs": [],
   "source": [
    "\n",
    "# Convert the data types to float16\n",
    "df[categoricalFeatures] = df[categoricalFeatures].astype('float16')\n",
    "df[continuousFeatures] = df[continuousFeatures].astype('float16')"
   ]
  },
  {
   "cell_type": "code",
   "execution_count": null,
   "metadata": {},
   "outputs": [],
   "source": [
    "\"\"\" Now with all features cleaned, we can perform mRMR on the data\"\"\"\n",
    "from mrmr import mrmr_classif\n",
    "\n",
    "allFeatures = df.columns[:-1]\n",
    "selectedFeatures = mrmr_classif(X=df[allFeatures], y=df['num'], K=len(allFeatures))\n",
    "print(f'ranked features according to mrmr: {selectedFeatures}')"
   ]
  },
  {
   "cell_type": "code",
   "execution_count": null,
   "metadata": {},
   "outputs": [],
   "source": [
    "\"\"\" Now lets save the data \"\"\"\n",
    "print(df.info())\n",
    "print(f\"\\n\\n DF HEAD\")\n",
    "print(df.head(5))\n",
    "df.to_csv('data_cleaned.csv', index=False)\n"
   ]
  }
 ],
 "metadata": {
  "kernelspec": {
   "display_name": "Python 3",
   "language": "python",
   "name": "python3"
  },
  "language_info": {
   "codemirror_mode": {
    "name": "ipython",
    "version": 3
   },
   "file_extension": ".py",
   "mimetype": "text/x-python",
   "name": "python",
   "nbconvert_exporter": "python",
   "pygments_lexer": "ipython3",
   "version": "3.11.6"
  }
 },
 "nbformat": 4,
 "nbformat_minor": 2
}
