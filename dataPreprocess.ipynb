{
 "cells": [
  {
   "cell_type": "code",
   "execution_count": 8,
   "metadata": {},
   "outputs": [],
   "source": [
    "import pandas as pd\n",
    "import numpy as np\n",
    "import torch\n",
    "import mrmr"
   ]
  },
  {
   "cell_type": "code",
   "execution_count": 9,
   "metadata": {},
   "outputs": [
    {
     "name": "stdout",
     "output_type": "stream",
     "text": [
      "Index(['Unnamed: 0', 'age', 'sex', 'cp', 'trestbps', 'chol', 'fbs', 'restecg',\n",
      "       'thalach', 'exang', 'oldpeak', 'slope', 'ca', 'thal', 'num'],\n",
      "      dtype='object')\n"
     ]
    }
   ],
   "source": [
    "df = pd.read_csv('cleveland-challenge.csv')\n",
    "print(df.columns)\n",
    "\n",
    "\"\"\" Convert num into a 0 or 1\"\"\"\n",
    "df['num'] = df['num'].apply(lambda x: 1 if x > 0 else 0)"
   ]
  },
  {
   "cell_type": "code",
   "execution_count": 10,
   "metadata": {},
   "outputs": [],
   "source": [
    "\"\"\"\n",
    "Read in the dataframe and refactor the disease column to be binary\n",
    "Sort the columns into categorical and continuous features\n",
    "\"\"\"\n",
    "\n",
    "df = pd.read_csv('cleveland.csv')\n",
    "df['num'] = df['num'].apply(lambda x: 1 if x > 0 else 0)\n",
    "df['num'] = df['num'].astype('category')\n",
    "\n",
    "selectedFeatures = ['thal', 'cp', 'ca', 'oldpeak', 'thalach', \n",
    "                    'exang', 'chol', 'sex', 'trestbps', 'fbs',\n",
    "                    'age', 'restecg', 'slope']\n",
    "\n",
    "# These features are the ones I want to select\n",
    "categoricalFeatures = ['sex', 'cp', 'fbs', 'restecg', 'exang', 'slope', 'ca', 'thal']\n",
    "continuousFeatures = ['age', 'trestbps', 'chol', 'thalach', 'oldpeak']\n",
    "\n"
   ]
  },
  {
   "cell_type": "code",
   "execution_count": 11,
   "metadata": {},
   "outputs": [],
   "source": [
    "\"\"\"\n",
    "Prepare categorical features\n",
    "\"\"\"\n",
    "from sklearn.preprocessing import LabelEncoder, MinMaxScaler\n",
    "\n",
    "# Remove '?' from the categorical features\n",
    "for feature in categoricalFeatures:\n",
    "    df = df[df[feature] != '?']\n",
    "\n",
    "# Use the label encoder to convert categorical features to numerical\n",
    "label_encoder = LabelEncoder()\n",
    "min_max_scaler = MinMaxScaler()\n",
    "for col in categoricalFeatures:\n",
    "    df[col] = label_encoder.fit_transform(df[col])\n",
    "\n",
    "# Normalize the encoded values to a range of 0 to 1\n",
    "df[categoricalFeatures] = min_max_scaler.fit_transform(df[categoricalFeatures])"
   ]
  },
  {
   "cell_type": "code",
   "execution_count": 12,
   "metadata": {},
   "outputs": [
    {
     "name": "stdout",
     "output_type": "stream",
     "text": [
      "Converting age to numeric\n",
      "Converting trestbps to numeric\n",
      "Converting chol to numeric\n",
      "Converting thalach to numeric\n",
      "Converting oldpeak to numeric\n"
     ]
    }
   ],
   "source": [
    "\"\"\"\n",
    "Clean up Continuous Features\n",
    "\"\"\"\n",
    "\n",
    "# remove rows that are not numeric\n",
    "for feature in continuousFeatures:\n",
    "    print(f\"Converting {feature} to numeric\")\n",
    "    df = df[pd.to_numeric(df[feature], errors='coerce').notna()]\n",
    "\n",
    "# Z-score normalization\n",
    "for feature in continuousFeatures:\n",
    "    mean = df[feature].mean()\n",
    "    std = df[feature].std()\n",
    "    df[feature] = (df[feature] - mean) / std"
   ]
  },
  {
   "cell_type": "code",
   "execution_count": 13,
   "metadata": {},
   "outputs": [],
   "source": [
    "\n",
    "# Convert the data types to float16\n",
    "df[categoricalFeatures] = df[categoricalFeatures].astype('float16')\n",
    "df[continuousFeatures] = df[continuousFeatures].astype('float16')"
   ]
  },
  {
   "cell_type": "code",
   "execution_count": 14,
   "metadata": {},
   "outputs": [
    {
     "name": "stderr",
     "output_type": "stream",
     "text": [
      "100%|██████████| 13/13 [00:04<00:00,  2.90it/s]"
     ]
    },
    {
     "name": "stdout",
     "output_type": "stream",
     "text": [
      "ranked features according to mrmr: ['thal', 'restecg', 'ca', 'exang', 'thalach', 'oldpeak', 'cp', 'sex', 'slope', 'age', 'trestbps', 'chol', 'fbs']\n"
     ]
    },
    {
     "name": "stderr",
     "output_type": "stream",
     "text": [
      "\n"
     ]
    }
   ],
   "source": [
    "\"\"\" Now with all features cleaned, we can perform mRMR on the data\"\"\"\n",
    "from mrmr import mrmr_classif\n",
    "\n",
    "allFeatures = df.columns[:-1]\n",
    "selectedFeatures = mrmr_classif(X=df[allFeatures], y=df['num'], K=len(allFeatures))\n",
    "print(f'ranked features according to mrmr: {selectedFeatures}')\n",
    "\n",
    "# Take the top 9 features\n",
    "selectedFeatures = selectedFeatures[:9] + ['num']\n",
    "df = df[selectedFeatures]\n"
   ]
  },
  {
   "cell_type": "code",
   "execution_count": 15,
   "metadata": {},
   "outputs": [
    {
     "name": "stdout",
     "output_type": "stream",
     "text": [
      "<class 'pandas.core.frame.DataFrame'>\n",
      "Index: 297 entries, 0 to 301\n",
      "Data columns (total 10 columns):\n",
      " #   Column   Non-Null Count  Dtype   \n",
      "---  ------   --------------  -----   \n",
      " 0   thal     297 non-null    float16 \n",
      " 1   restecg  297 non-null    float16 \n",
      " 2   ca       297 non-null    float16 \n",
      " 3   exang    297 non-null    float16 \n",
      " 4   thalach  297 non-null    float16 \n",
      " 5   oldpeak  297 non-null    float16 \n",
      " 6   cp       297 non-null    float16 \n",
      " 7   sex      297 non-null    float16 \n",
      " 8   slope    297 non-null    float16 \n",
      " 9   num      297 non-null    category\n",
      "dtypes: category(1), float16(9)\n",
      "memory usage: 8.0 KB\n",
      "None\n",
      "\n",
      "\n",
      " DF HEAD\n",
      "   thal  restecg        ca  exang   thalach   oldpeak        cp  sex  slope   \n",
      "0   0.5      1.0  0.000000    0.0  0.017471  1.067383  0.000000  1.0    1.0  \\\n",
      "1   0.0      1.0  1.000000    1.0 -1.813477  0.381104  1.000000  1.0    0.5   \n",
      "2   1.0      1.0  0.666504    1.0 -0.897949  1.324219  1.000000  1.0    0.5   \n",
      "3   0.0      0.0  0.000000    0.0  1.629883  2.095703  0.666504  1.0    1.0   \n",
      "4   0.0      1.0  0.000000    0.0  0.976562  0.295410  0.333252  0.0    0.0   \n",
      "\n",
      "  num  \n",
      "0   0  \n",
      "1   1  \n",
      "2   1  \n",
      "3   0  \n",
      "4   0  \n"
     ]
    }
   ],
   "source": [
    "\"\"\" Now lets save the data \"\"\"\n",
    "print(df.info())\n",
    "print(f\"\\n\\n DF HEAD\")\n",
    "print(df.head(5))\n",
    "df.to_csv('cleveland_cleaned.csv', index=False)\n"
   ]
  }
 ],
 "metadata": {
  "kernelspec": {
   "display_name": "Python 3",
   "language": "python",
   "name": "python3"
  },
  "language_info": {
   "codemirror_mode": {
    "name": "ipython",
    "version": 3
   },
   "file_extension": ".py",
   "mimetype": "text/x-python",
   "name": "python",
   "nbconvert_exporter": "python",
   "pygments_lexer": "ipython3",
   "version": "3.11.6"
  }
 },
 "nbformat": 4,
 "nbformat_minor": 2
}
