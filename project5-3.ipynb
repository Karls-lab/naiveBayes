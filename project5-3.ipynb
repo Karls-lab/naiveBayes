{
 "cells": [
  {
   "cell_type": "markdown",
   "metadata": {},
   "source": [
    "# CS5830 Project 5: Naive Bayes"
   ]
  },
  {
   "cell_type": "code",
   "execution_count": null,
   "metadata": {},
   "outputs": [],
   "source": [
    "import pandas as pd\n",
    "import numpy as np\n",
    "import seaborn as sns\n",
    "\n",
    "from sklearn.model_selection import train_test_split\n",
    "from sklearn.metrics import precision_recall_fscore_support\n",
    "from sklearn.preprocessing import StandardScaler\n",
    "from sklearn.feature_selection import SelectKBest\n",
    "\n",
    "# Models\n",
    "from sklearn.naive_bayes import GaussianNB"
   ]
  },
  {
   "cell_type": "code",
   "execution_count": null,
   "metadata": {},
   "outputs": [],
   "source": [
    "# Get datasets from https://whyisyoung.github.io/BODMAS/\n",
    "bodmas_np = np.load('data/bodmas.npz')\n",
    "metadata = pd.read_csv('data/bodmas_metadata.csv')\n",
    "categories = pd.read_csv('data/bodmas_malware_category.csv')\n",
    "\n",
    "X = pd.DataFrame(bodmas_np['X'])\n",
    "y = pd.DataFrame(bodmas_np['y'])\n",
    "X"
   ]
  },
  {
   "cell_type": "code",
   "execution_count": null,
   "metadata": {},
   "outputs": [],
   "source": [
    "y = y.rename(columns={0: 'label'})\n",
    "sns.catplot(x='label', kind='count', data=y)\n",
    "\n",
    "X = X.loc[:, (X != X.iloc[0]).any()]\n",
    "X"
   ]
  },
  {
   "cell_type": "code",
   "execution_count": null,
   "metadata": {},
   "outputs": [],
   "source": [
    "X_train, X_test, y_train, y_test = train_test_split(X, y, test_size=0.2)\n",
    "y_train = y_train.values.ravel()\n",
    "y_test = y_test.values.ravel()\n",
    "\n",
    "# Apply scaling\n",
    "scaler = StandardScaler()\n",
    "scaler.fit(X_train)\n",
    "X_train = scaler.transform(X_train)\n",
    "X_test = scaler.transform(X_test)\n",
    "\n",
    "# Feature selection\n",
    "kbest = SelectKBest(k=50)\n",
    "X_train = kbest.fit_transform(X_train, y_train)\n",
    "X_test = kbest.transform(X_test)"
   ]
  },
  {
   "cell_type": "code",
   "execution_count": null,
   "metadata": {},
   "outputs": [],
   "source": [
    "X_train = pd.DataFrame(X_train)\n",
    "X_test = pd.DataFrame(X_test)\n",
    "corr = X_train.corr().abs()\n",
    "sns.heatmap(corr, cmap='coolwarm')\n",
    "\n",
    "# Remove one of each pair of features with a high correlation as they may indicate feature redundancy\n",
    "# https://stackoverflow.com/questions/29294983/how-to-calculate-correlation-between-all-columns-and-remove-highly-correlated-on\n",
    "threshold = 0.75\n",
    "upper = corr.where(np.triu(np.ones(corr.shape), k=1).astype(bool))\n",
    "to_drop = [column for column in upper.columns if any(upper[column] > threshold)]\n",
    "display(to_drop)\n",
    "\n",
    "X_train_dropped = X_train.drop(columns=to_drop)\n",
    "X_test_dropped = X_test.drop(columns=to_drop)"
   ]
  },
  {
   "cell_type": "code",
   "execution_count": null,
   "metadata": {},
   "outputs": [],
   "source": [
    "# Gaussian Naive Bayes on best 50 features - binary classification\n",
    "gnb = GaussianNB()\n",
    "gnb.fit(X_train, y_train)\n",
    "y_pred = gnb.predict(X_test)\n",
    "display(precision_recall_fscore_support(y_test, y_pred, average='binary', pos_label=1))\n",
    "\n",
    "# Now with the dropped highly-correlated features\n",
    "gnb.fit(X_train_dropped, y_train)\n",
    "y_pred = gnb.predict(X_test_dropped)\n",
    "display(precision_recall_fscore_support(y_test, y_pred, average='binary', pos_label=1))"
   ]
  },
  {
   "cell_type": "code",
   "execution_count": null,
   "metadata": {},
   "outputs": [],
   "source": [
    "# One step further, see how well we can predict the malware category\n",
    "\n",
    "y = pd.merge(metadata, categories, left_on='sha', right_on='sha256', how='left')\n",
    "y = y.drop(columns=['sha', 'sha256', 'timestamp', 'family'])\n",
    "\n",
    "y = y.replace(np.nan, 'none', regex=True)\n",
    "display(y)\n",
    "X_cat = X.iloc[y.index]\n",
    "\n",
    "# Join categories to X based on sha\n",
    "X_train, X_test, y_train, y_test = train_test_split(X_cat, y, test_size=0.2)\n",
    "y_train = y_train.values.ravel()\n",
    "y_test = y_test.values.ravel()\n",
    "\n",
    "# Apply scaling\n",
    "scaler = StandardScaler()\n",
    "scaler.fit(X_train)\n",
    "X_train = scaler.transform(X_train)\n",
    "X_test = scaler.transform(X_test)\n",
    "\n",
    "# Feature selection\n",
    "kbest = SelectKBest(k=500)\n",
    "X_train = kbest.fit_transform(X_train, y_train)\n",
    "X_test = kbest.transform(X_test)"
   ]
  },
  {
   "cell_type": "code",
   "execution_count": null,
   "metadata": {},
   "outputs": [],
   "source": [
    "# Gaussian Naive Bayes on best 500 features - multi-class classification\n",
    "gnb = GaussianNB()\n",
    "gnb.fit(X_train, y_train)\n",
    "y_pred = gnb.predict(X_test)\n",
    "display(precision_recall_fscore_support(y_test, y_pred, average='weighted'))\n",
    "\n",
    "compare = pd.DataFrame({'Actual': y_test, 'Predicted': y_pred})\n",
    "compare['Correct'] = compare['Actual'] == compare['Predicted']\n",
    "display(compare)"
   ]
  }
 ],
 "metadata": {
  "kernelspec": {
   "display_name": ".venv",
   "language": "python",
   "name": "python3"
  },
  "language_info": {
   "codemirror_mode": {
    "name": "ipython",
    "version": 3
   },
   "file_extension": ".py",
   "mimetype": "text/x-python",
   "name": "python",
   "nbconvert_exporter": "python",
   "pygments_lexer": "ipython3",
   "version": "3.10.2"
  }
 },
 "nbformat": 4,
 "nbformat_minor": 2
}
